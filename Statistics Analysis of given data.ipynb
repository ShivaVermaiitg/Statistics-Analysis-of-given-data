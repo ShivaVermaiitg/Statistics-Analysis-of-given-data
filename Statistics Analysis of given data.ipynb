{
  "metadata": {
    "kernelspec": {
      "name": "python",
      "display_name": "Python (Pyodide)",
      "language": "python"
    },
    "language_info": {
      "codemirror_mode": {
        "name": "python",
        "version": 3
      },
      "file_extension": ".py",
      "mimetype": "text/x-python",
      "name": "python",
      "nbconvert_exporter": "python",
      "pygments_lexer": "ipython3",
      "version": "3.8"
    }
  },
  "nbformat_minor": 4,
  "nbformat": 4,
  "cells": [
    {
      "cell_type": "code",
      "source": "import statistics\n\ndef calculate_statistics(numbers):\n    try:\n        # Mean\n        mean_value = statistics.mean(numbers)\n        # Median\n        median_value = statistics.median(numbers)\n        # Mode\n        mode_value = statistics.mode(numbers)\n\n        # Output results sequences is\n        print(f\"Mean: {mean_value:.2f}\")\n        print(f\"Median: {median_value}\")\n        print(f\"Mode: {mode_value}\")\n    except statistics.StatisticsError as e:\n        print(f\"Error calculating mode: {e}\")\n    except Exception as e:\n        print(f\"An error occurred: {e}\")\n\ndef main():\n    # Given data\n    numbers = [48,15,42,85,94,86,24,15,34,47,76,91,29]\n    print(\"Statistics Analysis for List:\")\n    calculate_statistics(numbers)\n\nif __name__ == \"__main__\":\n    main()\n",
      "metadata": {
        "trusted": true
      },
      "outputs": [
        {
          "name": "stdout",
          "text": "Statistics Analysis for List:\nMean: 52.77\nMedian: 47\nMode: 15\n",
          "output_type": "stream"
        }
      ],
      "execution_count": 8
    },
    {
      "cell_type": "code",
      "source": "",
      "metadata": {
        "trusted": true
      },
      "outputs": [],
      "execution_count": null
    }
  ]
}